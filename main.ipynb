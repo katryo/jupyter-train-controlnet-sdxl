{
 "cells": [
  {
   "cell_type": "code",
   "execution_count": null,
   "metadata": {},
   "outputs": [],
   "source": [
    "!pip install git+https://github.com/huggingface/diffusers.git accelerate>=0.16.0 torchvision transformers>=4.25.1 ftfy tensorboard Jinja2 datasets wandb"
   ]
  },
  {
   "cell_type": "code",
   "execution_count": null,
   "metadata": {},
   "outputs": [],
   "source": [
    "!huggingface-cli login"
   ]
  },
  {
   "cell_type": "code",
   "execution_count": null,
   "metadata": {},
   "outputs": [],
   "source": [
    "!wandb login\n"
   ]
  },
  {
   "cell_type": "code",
   "execution_count": null,
   "metadata": {},
   "outputs": [],
   "source": [
    "from accelerate.utils import write_basic_config\n",
    "write_basic_config()"
   ]
  },
  {
   "cell_type": "code",
   "execution_count": null,
   "metadata": {},
   "outputs": [],
   "source": [
    "!git clone https://github.com/katryo/jupyter-train-controlnet-sdxl.git"
   ]
  },
  {
   "cell_type": "code",
   "execution_count": null,
   "metadata": {},
   "outputs": [],
   "source": [
    "from google.colab import drive\n",
    "import os\n",
    "\n",
    "root_dir          = \"/content\"\n",
    "drive_dir         = os.path.join(root_dir, \"drive/MyDrive\")\n",
    "training_dir      = os.path.join(root_dir, \"fine_tune\")\n",
    "\n",
    "def mount_drive(dir):\n",
    "    output_dir      = os.path.join(training_dir, \"output\")\n",
    "\n",
    "    if not os.path.exists(drive_dir):\n",
    "        drive.mount(os.path.dirname(drive_dir))\n",
    "    output_dir  = os.path.join(drive_dir, \"kohya-trainer/output\")\n",
    "\n",
    "    return output_dir\n",
    "\n",
    "\n",
    "output_dir      = mount_drive(drive_dir)\n",
    "\n",
    "for dir in [training_dir, output_dir]:\n",
    "    os.makedirs(dir, exist_ok=True)"
   ]
  },
  {
   "cell_type": "code",
   "execution_count": null,
   "metadata": {},
   "outputs": [],
   "source": [
    "!export MODEL_DIR=\"stabilityai/stable-diffusion-xl-base-1.0\"\n",
    "!export OUTPUT_DIR=\"/content/fine_tune/output\"\n",
    "\n",
    "!accelerate launch train_controlnet_sdxl.py \\\n",
    " --pretrained_model_name_or_path=$MODEL_DIR \\\n",
    " --output_dir=$OUTPUT_DIR \\\n",
    " --dataset_name=katryo/mkcface-depth-0 \\\n",
    " --mixed_precision=\"fp16\" \\\n",
    " --resolution=1024 \\\n",
    " --learning_rate=1e-5 \\\n",
    " --max_train_steps=15000 \\\n",
    " --tracker_project_name \"mkcface-depth-0\" \\\n",
    " --validation_image \"./conditioning_image_1.png\" \"./conditioning_image_2.png\" \\\n",
    " --validation_prompt \"red circle with blue background\" \"cyan circle with brown floral background\" \\\n",
    " --validation_steps=100 \\\n",
    " --train_batch_size=1 \\\n",
    " --gradient_accumulation_steps=4 \\\n",
    " --report_to=\"wandb\" \\\n",
    " --seed=42 \\\n",
    " --push_to_hub"
   ]
  },
  {
   "cell_type": "code",
   "execution_count": null,
   "metadata": {},
   "outputs": [],
   "source": []
  },
  {
   "cell_type": "code",
   "execution_count": null,
   "metadata": {},
   "outputs": [],
   "source": []
  }
 ],
 "metadata": {
  "language_info": {
   "name": "python"
  }
 },
 "nbformat": 4,
 "nbformat_minor": 2
}
